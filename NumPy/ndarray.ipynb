{
 "cells": [
  {
   "cell_type": "markdown",
   "metadata": {},
   "source": [
    "다차원 배열(ndarray)를 알아보겠습니다. \n",
    "\n",
    "# 생성 \n",
    "\n",
    "numpy는 1차원 배열이나 2차원, 3차원 같은 다차원 배열(ndarray)을 생성할 수 있습니다. 파이썬 리스트로 다차원 배열을 생성할 수 있고, `zeros`, `empty`, `random` 같은 내장 함수를 이용할 수 도 있습니다. 다차원 배열의 자료형은 모두 같아야 합니다. 여기서는 몇 가지 방법을 이용해서 다차원 배열을 생성하도록 하겠습니다. "
   ]
  },
  {
   "cell_type": "code",
   "execution_count": 2,
   "metadata": {},
   "outputs": [
    {
     "data": {
      "text/plain": [
       "array([1, 3, 4])"
      ]
     },
     "execution_count": 2,
     "metadata": {},
     "output_type": "execute_result"
    }
   ],
   "source": [
    "import numpy as np\n",
    "\n",
    "# 파이썬 리스트를 이용하여 생성 \n",
    "n_arr1_1 = np.array([1, 3, 4])\n",
    "n_arr1_2 = np.array([[1, 3, 4], [1, 3, 4]])\n",
    "n_arr1_3 = np.array(['a', 'b', 'c'])\n",
    "\n",
    "n_arr1_1"
   ]
  },
  {
   "cell_type": "code",
   "execution_count": 3,
   "metadata": {},
   "outputs": [
    {
     "data": {
      "text/plain": [
       "array([0., 0., 0., 0.])"
      ]
     },
     "execution_count": 3,
     "metadata": {},
     "output_type": "execute_result"
    }
   ],
   "source": [
    "# zeros: 0으로 초기화 \n",
    "n_arr2 = np.zeros(4)\n",
    "n_arr2"
   ]
  },
  {
   "cell_type": "code",
   "execution_count": 4,
   "metadata": {},
   "outputs": [
    {
     "data": {
      "text/plain": [
       "array([[[2.00000000e+000],\n",
       "        [2.00390211e+000],\n",
       "        [1.48219694e-323]],\n",
       "\n",
       "       [[0.00000000e+000],\n",
       "        [0.00000000e+000],\n",
       "        [4.17201348e-309]]])"
      ]
     },
     "execution_count": 4,
     "metadata": {},
     "output_type": "execute_result"
    }
   ],
   "source": [
    "# empty: 무작위 값으로 초기화 \n",
    "n_arr3 = np.empty((2, 3, 1))\n",
    "n_arr3"
   ]
  },
  {
   "cell_type": "code",
   "execution_count": 5,
   "metadata": {},
   "outputs": [
    {
     "data": {
      "text/plain": [
       "array([[-0.34315753,  0.44689484, -0.97084224],\n",
       "       [-0.92808689, -2.00629361, -0.67734757]])"
      ]
     },
     "execution_count": 5,
     "metadata": {},
     "output_type": "execute_result"
    }
   ],
   "source": [
    "# random: 랜덤하게 생성 \n",
    "n_arr4 = np.random.randn(2, 3)\n",
    "n_arr4"
   ]
  },
  {
   "cell_type": "code",
   "execution_count": 6,
   "metadata": {},
   "outputs": [
    {
     "data": {
      "text/plain": [
       "array([0, 1, 2, 3, 4, 5, 6, 7, 8, 9])"
      ]
     },
     "execution_count": 6,
     "metadata": {},
     "output_type": "execute_result"
    }
   ],
   "source": [
    "# arange: 파이썬의 range와 유사 \n",
    "n_arr5 = np.arange(10)\n",
    "n_arr5"
   ]
  }
 ],
 "metadata": {
  "kernelspec": {
   "display_name": "Python 3",
   "language": "python",
   "name": "python3"
  },
  "language_info": {
   "codemirror_mode": {
    "name": "ipython",
    "version": 3
   },
   "file_extension": ".py",
   "mimetype": "text/x-python",
   "name": "python",
   "nbconvert_exporter": "python",
   "pygments_lexer": "ipython3",
   "version": "3.7.6"
  }
 },
 "nbformat": 4,
 "nbformat_minor": 4
}
