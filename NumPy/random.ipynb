{
 "cells": [
  {
   "cell_type": "code",
   "execution_count": 12,
   "metadata": {},
   "outputs": [
    {
     "data": {
      "text/plain": [
       "array([0.00731579, 0.38198349, 0.40142209, 0.84706278, 0.20017427,\n",
       "       0.63639063, 0.00730261, 0.67122773, 0.71932689, 0.76337171])"
      ]
     },
     "execution_count": 12,
     "metadata": {},
     "output_type": "execute_result"
    }
   ],
   "source": [
    "import numpy as np\n",
    "import pandas as pd\n",
    "\n",
    "# 10개의 값을 가지는 배열 반환 \n",
    "np.random.rand(10)"
   ]
  },
  {
   "cell_type": "code",
   "execution_count": 2,
   "metadata": {},
   "outputs": [
    {
     "data": {
      "text/plain": [
       "array([[-0.00664027, -1.4604518 ],\n",
       "       [ 0.37334622, -0.31552116],\n",
       "       [ 0.61573316, -0.05357705],\n",
       "       [-0.65879117,  0.61947815],\n",
       "       [-1.04726853,  0.33549974],\n",
       "       [-1.88502702, -0.65782333],\n",
       "       [ 1.04901037,  0.09489097],\n",
       "       [-0.69668043,  0.85673052],\n",
       "       [-1.53233932, -1.2130641 ],\n",
       "       [-0.9339996 , -0.63236837]])"
      ]
     },
     "execution_count": 2,
     "metadata": {},
     "output_type": "execute_result"
    }
   ],
   "source": [
    "# 2차원 배열의 생성 \n",
    "np.random.randn(10, 2)"
   ]
  },
  {
   "cell_type": "code",
   "execution_count": 3,
   "metadata": {},
   "outputs": [
    {
     "data": {
      "text/plain": [
       "6"
      ]
     },
     "execution_count": 3,
     "metadata": {},
     "output_type": "execute_result"
    }
   ],
   "source": [
    "# 정수형 값 반환 \n",
    "np.random.randint(10)"
   ]
  },
  {
   "cell_type": "code",
   "execution_count": 4,
   "metadata": {},
   "outputs": [
    {
     "data": {
      "text/plain": [
       "3"
      ]
     },
     "execution_count": 4,
     "metadata": {},
     "output_type": "execute_result"
    }
   ],
   "source": [
    "np.random.randint(10)"
   ]
  },
  {
   "cell_type": "code",
   "execution_count": 5,
   "metadata": {},
   "outputs": [
    {
     "data": {
      "text/plain": [
       "0"
      ]
     },
     "execution_count": 5,
     "metadata": {},
     "output_type": "execute_result"
    }
   ],
   "source": [
    "np.random.randint(10)"
   ]
  },
  {
   "cell_type": "code",
   "execution_count": 6,
   "metadata": {},
   "outputs": [
    {
     "data": {
      "text/plain": [
       "array([0.40321719, 0.93497577, 0.76923844, 0.30627508, 0.90392614,\n",
       "       0.49599715, 0.48232374, 0.24517149, 0.12492551, 0.53149362])"
      ]
     },
     "execution_count": 6,
     "metadata": {},
     "output_type": "execute_result"
    }
   ],
   "source": [
    "# 10개의 값을 가지는 배열 반환 \n",
    "np.random.random_sample(10)"
   ]
  },
  {
   "cell_type": "code",
   "execution_count": 7,
   "metadata": {},
   "outputs": [
    {
     "data": {
      "text/plain": [
       "array([0.39557798, 0.59599525, 0.68664865, 0.1123499 , 0.78221703,\n",
       "       0.13813807, 0.8307602 , 0.38808617, 0.13703596, 0.44559491])"
      ]
     },
     "execution_count": 7,
     "metadata": {},
     "output_type": "execute_result"
    }
   ],
   "source": [
    "# 10개의 값을 가지는 배열 반환 \n",
    "np.random.random(10)"
   ]
  },
  {
   "cell_type": "markdown",
   "metadata": {},
   "source": [
    "# random 함수 활용\n",
    "random 함수를 활용하여 필요한 데이터를 생성하는 방법을 알아보겠습니다. "
   ]
  },
  {
   "cell_type": "code",
   "execution_count": 8,
   "metadata": {},
   "outputs": [
    {
     "data": {
      "text/plain": [
       "[75, 49, 78, 58, 45, 0, 29, 50, 54, 52]"
      ]
     },
     "execution_count": 8,
     "metadata": {},
     "output_type": "execute_result"
    }
   ],
   "source": [
    "# 10개의 정수 값을 가지는 리스트 \n",
    "[np.random.randint(0, 100) for i in range(0, 10)]"
   ]
  },
  {
   "cell_type": "code",
   "execution_count": 9,
   "metadata": {},
   "outputs": [
    {
     "data": {
      "text/plain": [
       "array([71, 94, 82, 57])"
      ]
     },
     "execution_count": 9,
     "metadata": {},
     "output_type": "execute_result"
    }
   ],
   "source": [
    "# 4개의 정수 값을 가지는 배열 \n",
    "(np.random.rand(4) * 100).astype(int)"
   ]
  },
  {
   "cell_type": "code",
   "execution_count": 10,
   "metadata": {},
   "outputs": [
    {
     "data": {
      "text/plain": [
       "array([-122,  -34,  148,  -58,   49,  -48,   39,   47,  -25,   78])"
      ]
     },
     "execution_count": 10,
     "metadata": {},
     "output_type": "execute_result"
    }
   ],
   "source": [
    "# 10개의 정수 값을 가지는 배열 \n",
    "(np.random.randn(10) * 100).astype(int)"
   ]
  },
  {
   "cell_type": "code",
   "execution_count": 13,
   "metadata": {},
   "outputs": [
    {
     "data": {
      "text/html": [
       "<div>\n",
       "<style scoped>\n",
       "    .dataframe tbody tr th:only-of-type {\n",
       "        vertical-align: middle;\n",
       "    }\n",
       "\n",
       "    .dataframe tbody tr th {\n",
       "        vertical-align: top;\n",
       "    }\n",
       "\n",
       "    .dataframe thead th {\n",
       "        text-align: right;\n",
       "    }\n",
       "</style>\n",
       "<table border=\"1\" class=\"dataframe\">\n",
       "  <thead>\n",
       "    <tr style=\"text-align: right;\">\n",
       "      <th></th>\n",
       "      <th>class</th>\n",
       "      <th>val1</th>\n",
       "      <th>val2</th>\n",
       "      <th>val3</th>\n",
       "      <th>val4</th>\n",
       "      <th>val5</th>\n",
       "    </tr>\n",
       "  </thead>\n",
       "  <tbody>\n",
       "    <tr>\n",
       "      <th>0</th>\n",
       "      <td>A</td>\n",
       "      <td>53</td>\n",
       "      <td>92</td>\n",
       "      <td>41</td>\n",
       "      <td>99</td>\n",
       "      <td>78</td>\n",
       "    </tr>\n",
       "    <tr>\n",
       "      <th>1</th>\n",
       "      <td>B</td>\n",
       "      <td>67</td>\n",
       "      <td>89</td>\n",
       "      <td>62</td>\n",
       "      <td>29</td>\n",
       "      <td>92</td>\n",
       "    </tr>\n",
       "    <tr>\n",
       "      <th>2</th>\n",
       "      <td>A</td>\n",
       "      <td>1</td>\n",
       "      <td>30</td>\n",
       "      <td>40</td>\n",
       "      <td>20</td>\n",
       "      <td>36</td>\n",
       "    </tr>\n",
       "    <tr>\n",
       "      <th>3</th>\n",
       "      <td>B</td>\n",
       "      <td>2</td>\n",
       "      <td>45</td>\n",
       "      <td>7</td>\n",
       "      <td>92</td>\n",
       "      <td>9</td>\n",
       "    </tr>\n",
       "  </tbody>\n",
       "</table>\n",
       "</div>"
      ],
      "text/plain": [
       "  class  val1  val2  val3  val4  val5\n",
       "0     A    53    92    41    99    78\n",
       "1     B    67    89    62    29    92\n",
       "2     A     1    30    40    20    36\n",
       "3     B     2    45     7    92     9"
      ]
     },
     "execution_count": 13,
     "metadata": {},
     "output_type": "execute_result"
    }
   ],
   "source": [
    "# 랜덤 값을 가지는 데이터 프레임 \n",
    "pd.DataFrame({\n",
    "    'class': ['A', 'B', 'A', 'B'], \n",
    "    'val1': (np.random.rand(4) * 100).astype(int), \n",
    "    'val2': (np.random.rand(4) * 100).astype(int), \n",
    "    'val3': (np.random.rand(4) * 100).astype(int), \n",
    "    'val4': (np.random.rand(4) * 100).astype(int), \n",
    "    'val5': (np.random.rand(4) * 100).astype(int), \n",
    "})"
   ]
  },
  {
   "cell_type": "code",
   "execution_count": 14,
   "metadata": {},
   "outputs": [
    {
     "data": {
      "text/html": [
       "<div>\n",
       "<style scoped>\n",
       "    .dataframe tbody tr th:only-of-type {\n",
       "        vertical-align: middle;\n",
       "    }\n",
       "\n",
       "    .dataframe tbody tr th {\n",
       "        vertical-align: top;\n",
       "    }\n",
       "\n",
       "    .dataframe thead th {\n",
       "        text-align: right;\n",
       "    }\n",
       "</style>\n",
       "<table border=\"1\" class=\"dataframe\">\n",
       "  <thead>\n",
       "    <tr style=\"text-align: right;\">\n",
       "      <th></th>\n",
       "      <th>class</th>\n",
       "      <th>year</th>\n",
       "      <th>month</th>\n",
       "      <th>val1</th>\n",
       "      <th>val2</th>\n",
       "      <th>val3</th>\n",
       "    </tr>\n",
       "  </thead>\n",
       "  <tbody>\n",
       "    <tr>\n",
       "      <th>0</th>\n",
       "      <td>C</td>\n",
       "      <td>2019</td>\n",
       "      <td>5</td>\n",
       "      <td>11193</td>\n",
       "      <td>149</td>\n",
       "      <td>3</td>\n",
       "    </tr>\n",
       "    <tr>\n",
       "      <th>1</th>\n",
       "      <td>B</td>\n",
       "      <td>2019</td>\n",
       "      <td>6</td>\n",
       "      <td>10970</td>\n",
       "      <td>170</td>\n",
       "      <td>9</td>\n",
       "    </tr>\n",
       "    <tr>\n",
       "      <th>2</th>\n",
       "      <td>A</td>\n",
       "      <td>2016</td>\n",
       "      <td>7</td>\n",
       "      <td>19888</td>\n",
       "      <td>106</td>\n",
       "      <td>4</td>\n",
       "    </tr>\n",
       "    <tr>\n",
       "      <th>3</th>\n",
       "      <td>C</td>\n",
       "      <td>2019</td>\n",
       "      <td>5</td>\n",
       "      <td>17751</td>\n",
       "      <td>254</td>\n",
       "      <td>3</td>\n",
       "    </tr>\n",
       "    <tr>\n",
       "      <th>4</th>\n",
       "      <td>B</td>\n",
       "      <td>2015</td>\n",
       "      <td>7</td>\n",
       "      <td>11855</td>\n",
       "      <td>261</td>\n",
       "      <td>2</td>\n",
       "    </tr>\n",
       "    <tr>\n",
       "      <th>5</th>\n",
       "      <td>B</td>\n",
       "      <td>2017</td>\n",
       "      <td>11</td>\n",
       "      <td>17428</td>\n",
       "      <td>214</td>\n",
       "      <td>4</td>\n",
       "    </tr>\n",
       "    <tr>\n",
       "      <th>6</th>\n",
       "      <td>A</td>\n",
       "      <td>2017</td>\n",
       "      <td>11</td>\n",
       "      <td>19218</td>\n",
       "      <td>281</td>\n",
       "      <td>4</td>\n",
       "    </tr>\n",
       "    <tr>\n",
       "      <th>7</th>\n",
       "      <td>A</td>\n",
       "      <td>2015</td>\n",
       "      <td>7</td>\n",
       "      <td>11805</td>\n",
       "      <td>118</td>\n",
       "      <td>9</td>\n",
       "    </tr>\n",
       "    <tr>\n",
       "      <th>8</th>\n",
       "      <td>C</td>\n",
       "      <td>2016</td>\n",
       "      <td>12</td>\n",
       "      <td>17826</td>\n",
       "      <td>296</td>\n",
       "      <td>3</td>\n",
       "    </tr>\n",
       "    <tr>\n",
       "      <th>9</th>\n",
       "      <td>A</td>\n",
       "      <td>2017</td>\n",
       "      <td>4</td>\n",
       "      <td>12381</td>\n",
       "      <td>209</td>\n",
       "      <td>1</td>\n",
       "    </tr>\n",
       "  </tbody>\n",
       "</table>\n",
       "</div>"
      ],
      "text/plain": [
       "  class  year  month   val1  val2  val3\n",
       "0     C  2019      5  11193   149     3\n",
       "1     B  2019      6  10970   170     9\n",
       "2     A  2016      7  19888   106     4\n",
       "3     C  2019      5  17751   254     3\n",
       "4     B  2015      7  11855   261     2\n",
       "5     B  2017     11  17428   214     4\n",
       "6     A  2017     11  19218   281     4\n",
       "7     A  2015      7  11805   118     9\n",
       "8     C  2016     12  17826   296     3\n",
       "9     A  2017      4  12381   209     1"
      ]
     },
     "execution_count": 14,
     "metadata": {},
     "output_type": "execute_result"
    }
   ],
   "source": [
    "# 랜덤한 year, month 값을 가지는 데이터 프레임 \n",
    "df = pd.DataFrame({\n",
    "    'class': [['A', 'B', 'C'][np.random.randint(0, 3)] for i in range(0, 10)], \n",
    "    'year':  [np.random.randint(2015, 2020) for i in range(0, 10)], \n",
    "    'month': [np.random.randint(1, 13) for i in range(0, 10)], \n",
    "    'val1':  [np.random.randint(10000, 20000) for i in range(0, 10)], \n",
    "    'val2':  [np.random.randint(100, 300) for i in range(0, 10)], \n",
    "    'val3':  [np.random.randint(1, 11) for i in range(0, 10)], \n",
    "})\n",
    "df"
   ]
  },
 ],
 "metadata": {
  "kernelspec": {
   "display_name": "Python 3",
   "language": "python",
   "name": "python3"
  },
  "language_info": {
   "codemirror_mode": {
    "name": "ipython",
    "version": 3
   },
   "file_extension": ".py",
   "mimetype": "text/x-python",
   "name": "python",
   "nbconvert_exporter": "python",
   "pygments_lexer": "ipython3",
   "version": "3.7.6"
  }
 },
 "nbformat": 4,
 "nbformat_minor": 4
}
