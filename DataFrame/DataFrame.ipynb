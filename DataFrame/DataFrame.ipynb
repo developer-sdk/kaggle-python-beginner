{
 "cells": [
  {
   "cell_type": "markdown",
   "metadata": {},
   "source": [
    "# DataFrame\n",
    "데이터프레임을 생성해 보겠습니다. "
   ]
  },
  {
   "cell_type": "code",
   "execution_count": 1,
   "metadata": {},
   "outputs": [
    {
     "data": {
      "text/html": [
       "<div>\n",
       "<style scoped>\n",
       "    .dataframe tbody tr th:only-of-type {\n",
       "        vertical-align: middle;\n",
       "    }\n",
       "\n",
       "    .dataframe tbody tr th {\n",
       "        vertical-align: top;\n",
       "    }\n",
       "\n",
       "    .dataframe thead th {\n",
       "        text-align: right;\n",
       "    }\n",
       "</style>\n",
       "<table border=\"1\" class=\"dataframe\">\n",
       "  <thead>\n",
       "    <tr style=\"text-align: right;\">\n",
       "      <th></th>\n",
       "      <th>이름</th>\n",
       "      <th>통솔</th>\n",
       "      <th>무력</th>\n",
       "      <th>지력</th>\n",
       "      <th>정치</th>\n",
       "      <th>매력</th>\n",
       "    </tr>\n",
       "  </thead>\n",
       "  <tbody>\n",
       "    <tr>\n",
       "      <th>0</th>\n",
       "      <td>조조</td>\n",
       "      <td>96</td>\n",
       "      <td>72</td>\n",
       "      <td>91</td>\n",
       "      <td>94</td>\n",
       "      <td>96</td>\n",
       "    </tr>\n",
       "    <tr>\n",
       "      <th>1</th>\n",
       "      <td>조운</td>\n",
       "      <td>91</td>\n",
       "      <td>97</td>\n",
       "      <td>76</td>\n",
       "      <td>65</td>\n",
       "      <td>81</td>\n",
       "    </tr>\n",
       "    <tr>\n",
       "      <th>2</th>\n",
       "      <td>주유</td>\n",
       "      <td>97</td>\n",
       "      <td>71</td>\n",
       "      <td>96</td>\n",
       "      <td>87</td>\n",
       "      <td>93</td>\n",
       "    </tr>\n",
       "  </tbody>\n",
       "</table>\n",
       "</div>"
      ],
      "text/plain": [
       "   이름  통솔  무력  지력  정치  매력\n",
       "0  조조  96  72  91  94  96\n",
       "1  조운  91  97  76  65  81\n",
       "2  주유  97  71  96  87  93"
      ]
     },
     "execution_count": 1,
     "metadata": {},
     "output_type": "execute_result"
    }
   ],
   "source": [
    "import pandas as pd\n",
    "\n",
    "datas = {\n",
    "    '이름': ['조조', '조운', '주유'], \n",
    "    '통솔': [96, 91, 97], \n",
    "    '무력': [72, 97, 71], \n",
    "    '지력': [91, 76, 96], \n",
    "    '정치': [94, 65, 87], \n",
    "    '매력': [96, 81, 93]\n",
    "}\n",
    "\n",
    "# 데이터프레임 생성 \n",
    "pd.DataFrame(datas)"
   ]
  },
  {
   "cell_type": "code",
   "execution_count": 2,
   "metadata": {},
   "outputs": [
    {
     "data": {
      "text/html": [
       "<div>\n",
       "<style scoped>\n",
       "    .dataframe tbody tr th:only-of-type {\n",
       "        vertical-align: middle;\n",
       "    }\n",
       "\n",
       "    .dataframe tbody tr th {\n",
       "        vertical-align: top;\n",
       "    }\n",
       "\n",
       "    .dataframe thead th {\n",
       "        text-align: right;\n",
       "    }\n",
       "</style>\n",
       "<table border=\"1\" class=\"dataframe\">\n",
       "  <thead>\n",
       "    <tr style=\"text-align: right;\">\n",
       "      <th></th>\n",
       "      <th>이름</th>\n",
       "      <th>무력</th>\n",
       "    </tr>\n",
       "  </thead>\n",
       "  <tbody>\n",
       "    <tr>\n",
       "      <th>0</th>\n",
       "      <td>조조</td>\n",
       "      <td>72</td>\n",
       "    </tr>\n",
       "    <tr>\n",
       "      <th>1</th>\n",
       "      <td>조운</td>\n",
       "      <td>97</td>\n",
       "    </tr>\n",
       "    <tr>\n",
       "      <th>2</th>\n",
       "      <td>주유</td>\n",
       "      <td>71</td>\n",
       "    </tr>\n",
       "  </tbody>\n",
       "</table>\n",
       "</div>"
      ],
      "text/plain": [
       "   이름  무력\n",
       "0  조조  72\n",
       "1  조운  97\n",
       "2  주유  71"
      ]
     },
     "execution_count": 2,
     "metadata": {},
     "output_type": "execute_result"
    }
   ],
   "source": [
    "# 주어진 칼럼의 데이터만 생성 \n",
    "pd.DataFrame(datas, columns=['이름', '무력'])"
   ]
  },
  {
   "cell_type": "code",
   "execution_count": 3,
   "metadata": {},
   "outputs": [
    {
     "data": {
      "text/html": [
       "<div>\n",
       "<style scoped>\n",
       "    .dataframe tbody tr th:only-of-type {\n",
       "        vertical-align: middle;\n",
       "    }\n",
       "\n",
       "    .dataframe tbody tr th {\n",
       "        vertical-align: top;\n",
       "    }\n",
       "\n",
       "    .dataframe thead th {\n",
       "        text-align: right;\n",
       "    }\n",
       "</style>\n",
       "<table border=\"1\" class=\"dataframe\">\n",
       "  <thead>\n",
       "    <tr style=\"text-align: right;\">\n",
       "      <th></th>\n",
       "      <th>이름</th>\n",
       "      <th>특수능력</th>\n",
       "    </tr>\n",
       "  </thead>\n",
       "  <tbody>\n",
       "    <tr>\n",
       "      <th>0</th>\n",
       "      <td>조조</td>\n",
       "      <td>NaN</td>\n",
       "    </tr>\n",
       "    <tr>\n",
       "      <th>1</th>\n",
       "      <td>조운</td>\n",
       "      <td>NaN</td>\n",
       "    </tr>\n",
       "    <tr>\n",
       "      <th>2</th>\n",
       "      <td>주유</td>\n",
       "      <td>NaN</td>\n",
       "    </tr>\n",
       "  </tbody>\n",
       "</table>\n",
       "</div>"
      ],
      "text/plain": [
       "   이름 특수능력\n",
       "0  조조  NaN\n",
       "1  조운  NaN\n",
       "2  주유  NaN"
      ]
     },
     "execution_count": 3,
     "metadata": {},
     "output_type": "execute_result"
    }
   ],
   "source": [
    "# 칼럼 정보가 없으면 NaN으로 생성 \n",
    "pd.DataFrame(datas, columns=['이름', '특수능력'])"
   ]
  },
  {
   "cell_type": "code",
   "execution_count": 4,
   "metadata": {},
   "outputs": [
    {
     "data": {
      "text/html": [
       "<div>\n",
       "<style scoped>\n",
       "    .dataframe tbody tr th:only-of-type {\n",
       "        vertical-align: middle;\n",
       "    }\n",
       "\n",
       "    .dataframe tbody tr th {\n",
       "        vertical-align: top;\n",
       "    }\n",
       "\n",
       "    .dataframe thead th {\n",
       "        text-align: right;\n",
       "    }\n",
       "</style>\n",
       "<table border=\"1\" class=\"dataframe\">\n",
       "  <thead>\n",
       "    <tr style=\"text-align: right;\">\n",
       "      <th></th>\n",
       "      <th>이름</th>\n",
       "      <th>통솔</th>\n",
       "      <th>무력</th>\n",
       "      <th>지력</th>\n",
       "      <th>정치</th>\n",
       "      <th>매력</th>\n",
       "    </tr>\n",
       "  </thead>\n",
       "  <tbody>\n",
       "    <tr>\n",
       "      <th>A</th>\n",
       "      <td>조조</td>\n",
       "      <td>96</td>\n",
       "      <td>72</td>\n",
       "      <td>91</td>\n",
       "      <td>94</td>\n",
       "      <td>96</td>\n",
       "    </tr>\n",
       "    <tr>\n",
       "      <th>B</th>\n",
       "      <td>조운</td>\n",
       "      <td>91</td>\n",
       "      <td>97</td>\n",
       "      <td>76</td>\n",
       "      <td>65</td>\n",
       "      <td>81</td>\n",
       "    </tr>\n",
       "    <tr>\n",
       "      <th>C</th>\n",
       "      <td>주유</td>\n",
       "      <td>97</td>\n",
       "      <td>71</td>\n",
       "      <td>96</td>\n",
       "      <td>87</td>\n",
       "      <td>93</td>\n",
       "    </tr>\n",
       "  </tbody>\n",
       "</table>\n",
       "</div>"
      ],
      "text/plain": [
       "   이름  통솔  무력  지력  정치  매력\n",
       "A  조조  96  72  91  94  96\n",
       "B  조운  91  97  76  65  81\n",
       "C  주유  97  71  96  87  93"
      ]
     },
     "execution_count": 4,
     "metadata": {},
     "output_type": "execute_result"
    }
   ],
   "source": [
    "# 인덱스 명 선언 \n",
    "pd.DataFrame(datas, index=['A', 'B', 'C'])"
   ]
  },
  {
   "cell_type": "markdown",
   "metadata": {},
   "source": [
    "# 조회 \n",
    "데이터프레임의 데이터를 조회하는 방법 여러 가지가 있습니다. 각 방법에 대해서 알아보겠습니다. \n",
    "\n",
    "+ 칼럼 기준\n",
    "    + 칼럼(column)의 데이터 반환 \n",
    "+ 인덱스 기준\n",
    "    + 행(row)의 데이터 반환 \n",
    "+ 칼럼, 인덱스 기준\n",
    "    + 특정 행, 칼럼의 데이터 반환. 하나의 값을 반환할 때 사용\n",
    "+ 조건 \n",
    "    + 조건에 맞는 데이터를 반환 \n",
    "\n",
    "## 칼럼 기준\n",
    "칼럼 기준 데이터 조회는 컬럼명을 이용하는 방법과 속성으로 방법이 있습니다. "
   ]
  },
  {
   "cell_type": "code",
   "execution_count": 5,
   "metadata": {},
   "outputs": [
    {
     "data": {
      "text/plain": [
       "0    조조\n",
       "1    조운\n",
       "2    주유\n",
       "Name: 이름, dtype: object"
      ]
     },
     "execution_count": 5,
     "metadata": {},
     "output_type": "execute_result"
    }
   ],
   "source": [
    "# 칼럼명으로 조회 \n",
    "c = pd.DataFrame(datas)\n",
    "c['이름']"
   ]
  },
  {
   "cell_type": "code",
   "execution_count": 6,
   "metadata": {},
   "outputs": [
    {
     "data": {
      "text/html": [
       "<div>\n",
       "<style scoped>\n",
       "    .dataframe tbody tr th:only-of-type {\n",
       "        vertical-align: middle;\n",
       "    }\n",
       "\n",
       "    .dataframe tbody tr th {\n",
       "        vertical-align: top;\n",
       "    }\n",
       "\n",
       "    .dataframe thead th {\n",
       "        text-align: right;\n",
       "    }\n",
       "</style>\n",
       "<table border=\"1\" class=\"dataframe\">\n",
       "  <thead>\n",
       "    <tr style=\"text-align: right;\">\n",
       "      <th></th>\n",
       "      <th>이름</th>\n",
       "      <th>무력</th>\n",
       "    </tr>\n",
       "  </thead>\n",
       "  <tbody>\n",
       "    <tr>\n",
       "      <th>0</th>\n",
       "      <td>조조</td>\n",
       "      <td>72</td>\n",
       "    </tr>\n",
       "    <tr>\n",
       "      <th>1</th>\n",
       "      <td>조운</td>\n",
       "      <td>97</td>\n",
       "    </tr>\n",
       "    <tr>\n",
       "      <th>2</th>\n",
       "      <td>주유</td>\n",
       "      <td>71</td>\n",
       "    </tr>\n",
       "  </tbody>\n",
       "</table>\n",
       "</div>"
      ],
      "text/plain": [
       "   이름  무력\n",
       "0  조조  72\n",
       "1  조운  97\n",
       "2  주유  71"
      ]
     },
     "execution_count": 6,
     "metadata": {},
     "output_type": "execute_result"
    }
   ],
   "source": [
    "# 멀티 칼럼 조회는 리스트로 칼럼명 조회\n",
    "c[['이름', '무력']]"
   ]
  },
  {
   "cell_type": "code",
   "execution_count": 7,
   "metadata": {},
   "outputs": [
    {
     "data": {
      "text/plain": [
       "0    조조\n",
       "1    조운\n",
       "2    주유\n",
       "Name: 이름, dtype: object"
      ]
     },
     "execution_count": 7,
     "metadata": {},
     "output_type": "execute_result"
    }
   ],
   "source": [
    "# 속성처럼 접근 \n",
    "c.이름"
   ]
  },
  {
   "cell_type": "markdown",
   "metadata": {},
   "source": [
    "## 인덱스 기준\n",
    "인덱스 기준 데이터 조회는 `loc`, `iloc` 함수를 이용하여 접근합니다. `loc`는 인덱스명을 이용하고, `iloc`는 인덱스 번호를 이용합니다. 인덱스 슬라이싱을 이용할 수도 있습니다. \n",
    "\n",
    "> 인덱스 슬라이싱은 칼럼의 데이터를 가져오는 것과 유사하게 사용하기 때문에 사용할 때 주의해야 합니다. "
   ]
  },
  {
   "cell_type": "code",
   "execution_count": 8,
   "metadata": {},
   "outputs": [
    {
     "data": {
      "text/plain": [
       "이름    조조\n",
       "통솔    96\n",
       "무력    72\n",
       "지력    91\n",
       "정치    94\n",
       "매력    96\n",
       "Name: 0, dtype: object"
      ]
     },
     "execution_count": 8,
     "metadata": {},
     "output_type": "execute_result"
    }
   ],
   "source": [
    "# 인덱스 명. \n",
    "# 이 데이터프레임은 range index로 번호로 되어 있기 때문에 숫자로 전달 \n",
    "c.loc[0]"
   ]
  },
  {
   "cell_type": "code",
   "execution_count": 9,
   "metadata": {},
   "outputs": [
    {
     "data": {
      "text/html": [
       "<div>\n",
       "<style scoped>\n",
       "    .dataframe tbody tr th:only-of-type {\n",
       "        vertical-align: middle;\n",
       "    }\n",
       "\n",
       "    .dataframe tbody tr th {\n",
       "        vertical-align: top;\n",
       "    }\n",
       "\n",
       "    .dataframe thead th {\n",
       "        text-align: right;\n",
       "    }\n",
       "</style>\n",
       "<table border=\"1\" class=\"dataframe\">\n",
       "  <thead>\n",
       "    <tr style=\"text-align: right;\">\n",
       "      <th></th>\n",
       "      <th>이름</th>\n",
       "      <th>통솔</th>\n",
       "      <th>무력</th>\n",
       "      <th>지력</th>\n",
       "      <th>정치</th>\n",
       "      <th>매력</th>\n",
       "    </tr>\n",
       "  </thead>\n",
       "  <tbody>\n",
       "    <tr>\n",
       "      <th>0</th>\n",
       "      <td>조조</td>\n",
       "      <td>96</td>\n",
       "      <td>72</td>\n",
       "      <td>91</td>\n",
       "      <td>94</td>\n",
       "      <td>96</td>\n",
       "    </tr>\n",
       "    <tr>\n",
       "      <th>1</th>\n",
       "      <td>조운</td>\n",
       "      <td>91</td>\n",
       "      <td>97</td>\n",
       "      <td>76</td>\n",
       "      <td>65</td>\n",
       "      <td>81</td>\n",
       "    </tr>\n",
       "  </tbody>\n",
       "</table>\n",
       "</div>"
      ],
      "text/plain": [
       "   이름  통솔  무력  지력  정치  매력\n",
       "0  조조  96  72  91  94  96\n",
       "1  조운  91  97  76  65  81"
      ]
     },
     "execution_count": 9,
     "metadata": {},
     "output_type": "execute_result"
    }
   ],
   "source": [
    "# 멀티 인덱스 접근 \n",
    "c.loc[[0, 1]]"
   ]
  },
  {
   "cell_type": "code",
   "execution_count": 10,
   "metadata": {},
   "outputs": [
    {
     "data": {
      "text/plain": [
       "이름    조조\n",
       "통솔    96\n",
       "무력    72\n",
       "지력    91\n",
       "정치    94\n",
       "매력    96\n",
       "Name: 0, dtype: object"
      ]
     },
     "execution_count": 10,
     "metadata": {},
     "output_type": "execute_result"
    }
   ],
   "source": [
    "# 인덱스 번호 접근 \n",
    "c.iloc[0]"
   ]
  },
  {
   "cell_type": "code",
   "execution_count": 11,
   "metadata": {},
   "outputs": [
    {
     "data": {
      "text/html": [
       "<div>\n",
       "<style scoped>\n",
       "    .dataframe tbody tr th:only-of-type {\n",
       "        vertical-align: middle;\n",
       "    }\n",
       "\n",
       "    .dataframe tbody tr th {\n",
       "        vertical-align: top;\n",
       "    }\n",
       "\n",
       "    .dataframe thead th {\n",
       "        text-align: right;\n",
       "    }\n",
       "</style>\n",
       "<table border=\"1\" class=\"dataframe\">\n",
       "  <thead>\n",
       "    <tr style=\"text-align: right;\">\n",
       "      <th></th>\n",
       "      <th>이름</th>\n",
       "      <th>통솔</th>\n",
       "      <th>무력</th>\n",
       "      <th>지력</th>\n",
       "      <th>정치</th>\n",
       "      <th>매력</th>\n",
       "    </tr>\n",
       "  </thead>\n",
       "  <tbody>\n",
       "    <tr>\n",
       "      <th>1</th>\n",
       "      <td>조운</td>\n",
       "      <td>91</td>\n",
       "      <td>97</td>\n",
       "      <td>76</td>\n",
       "      <td>65</td>\n",
       "      <td>81</td>\n",
       "    </tr>\n",
       "  </tbody>\n",
       "</table>\n",
       "</div>"
      ],
      "text/plain": [
       "   이름  통솔  무력  지력  정치  매력\n",
       "1  조운  91  97  76  65  81"
      ]
     },
     "execution_count": 11,
     "metadata": {},
     "output_type": "execute_result"
    }
   ],
   "source": [
    "# 인덱스 슬라이싱\n",
    "c[1:2]"
   ]
  },
  {
   "cell_type": "markdown",
   "metadata": {},
   "source": [
    "`loc`로 인덱스 정보를 가져오는 것을 명확하게 보여주기 위해서 인덱스를 문자형으로 바꾸어서 확인해 보겠습니다. "
   ]
  },
  {
   "cell_type": "code",
   "execution_count": 12,
   "metadata": {},
   "outputs": [
    {
     "data": {
      "text/html": [
       "<div>\n",
       "<style scoped>\n",
       "    .dataframe tbody tr th:only-of-type {\n",
       "        vertical-align: middle;\n",
       "    }\n",
       "\n",
       "    .dataframe tbody tr th {\n",
       "        vertical-align: top;\n",
       "    }\n",
       "\n",
       "    .dataframe thead th {\n",
       "        text-align: right;\n",
       "    }\n",
       "</style>\n",
       "<table border=\"1\" class=\"dataframe\">\n",
       "  <thead>\n",
       "    <tr style=\"text-align: right;\">\n",
       "      <th></th>\n",
       "      <th>이름</th>\n",
       "      <th>통솔</th>\n",
       "      <th>무력</th>\n",
       "      <th>지력</th>\n",
       "      <th>정치</th>\n",
       "      <th>매력</th>\n",
       "    </tr>\n",
       "  </thead>\n",
       "  <tbody>\n",
       "    <tr>\n",
       "      <th>A</th>\n",
       "      <td>조조</td>\n",
       "      <td>96</td>\n",
       "      <td>72</td>\n",
       "      <td>91</td>\n",
       "      <td>94</td>\n",
       "      <td>96</td>\n",
       "    </tr>\n",
       "    <tr>\n",
       "      <th>B</th>\n",
       "      <td>조운</td>\n",
       "      <td>91</td>\n",
       "      <td>97</td>\n",
       "      <td>76</td>\n",
       "      <td>65</td>\n",
       "      <td>81</td>\n",
       "    </tr>\n",
       "    <tr>\n",
       "      <th>C</th>\n",
       "      <td>주유</td>\n",
       "      <td>97</td>\n",
       "      <td>71</td>\n",
       "      <td>96</td>\n",
       "      <td>87</td>\n",
       "      <td>93</td>\n",
       "    </tr>\n",
       "  </tbody>\n",
       "</table>\n",
       "</div>"
      ],
      "text/plain": [
       "   이름  통솔  무력  지력  정치  매력\n",
       "A  조조  96  72  91  94  96\n",
       "B  조운  91  97  76  65  81\n",
       "C  주유  97  71  96  87  93"
      ]
     },
     "execution_count": 12,
     "metadata": {},
     "output_type": "execute_result"
    }
   ],
   "source": [
    "# 데이터 프레임의 인덱스 명을 A, B, C로 설정 \n",
    "c2 = pd.DataFrame(datas, index=['A', 'B', 'C'])\n",
    "c2"
   ]
  },
  {
   "cell_type": "code",
   "execution_count": 13,
   "metadata": {},
   "outputs": [
    {
     "data": {
      "text/plain": [
       "이름    조조\n",
       "통솔    96\n",
       "무력    72\n",
       "지력    91\n",
       "정치    94\n",
       "매력    96\n",
       "Name: A, dtype: object"
      ]
     },
     "execution_count": 13,
     "metadata": {},
     "output_type": "execute_result"
    }
   ],
   "source": [
    "# 인덱스 명 접근 \n",
    "c2.loc['A']"
   ]
  },
  {
   "cell_type": "code",
   "execution_count": 14,
   "metadata": {},
   "outputs": [
    {
     "data": {
      "text/html": [
       "<div>\n",
       "<style scoped>\n",
       "    .dataframe tbody tr th:only-of-type {\n",
       "        vertical-align: middle;\n",
       "    }\n",
       "\n",
       "    .dataframe tbody tr th {\n",
       "        vertical-align: top;\n",
       "    }\n",
       "\n",
       "    .dataframe thead th {\n",
       "        text-align: right;\n",
       "    }\n",
       "</style>\n",
       "<table border=\"1\" class=\"dataframe\">\n",
       "  <thead>\n",
       "    <tr style=\"text-align: right;\">\n",
       "      <th></th>\n",
       "      <th>이름</th>\n",
       "      <th>통솔</th>\n",
       "      <th>무력</th>\n",
       "      <th>지력</th>\n",
       "      <th>정치</th>\n",
       "      <th>매력</th>\n",
       "    </tr>\n",
       "  </thead>\n",
       "  <tbody>\n",
       "    <tr>\n",
       "      <th>A</th>\n",
       "      <td>조조</td>\n",
       "      <td>96</td>\n",
       "      <td>72</td>\n",
       "      <td>91</td>\n",
       "      <td>94</td>\n",
       "      <td>96</td>\n",
       "    </tr>\n",
       "    <tr>\n",
       "      <th>B</th>\n",
       "      <td>조운</td>\n",
       "      <td>91</td>\n",
       "      <td>97</td>\n",
       "      <td>76</td>\n",
       "      <td>65</td>\n",
       "      <td>81</td>\n",
       "    </tr>\n",
       "  </tbody>\n",
       "</table>\n",
       "</div>"
      ],
      "text/plain": [
       "   이름  통솔  무력  지력  정치  매력\n",
       "A  조조  96  72  91  94  96\n",
       "B  조운  91  97  76  65  81"
      ]
     },
     "execution_count": 14,
     "metadata": {},
     "output_type": "execute_result"
    }
   ],
   "source": [
    "# 멀티 인덱스 접근 \n",
    "c2.loc[['A', 'B']]"
   ]
  },
  {
   "cell_type": "code",
   "execution_count": 15,
   "metadata": {},
   "outputs": [
    {
     "data": {
      "text/plain": [
       "이름    조조\n",
       "통솔    96\n",
       "무력    72\n",
       "지력    91\n",
       "정치    94\n",
       "매력    96\n",
       "Name: A, dtype: object"
      ]
     },
     "execution_count": 15,
     "metadata": {},
     "output_type": "execute_result"
    }
   ],
   "source": [
    "# 인덱스 번호 \n",
    "c2.iloc[0]"
   ]
  },
  {
   "cell_type": "code",
   "execution_count": 16,
   "metadata": {},
   "outputs": [
    {
     "data": {
      "text/html": [
       "<div>\n",
       "<style scoped>\n",
       "    .dataframe tbody tr th:only-of-type {\n",
       "        vertical-align: middle;\n",
       "    }\n",
       "\n",
       "    .dataframe tbody tr th {\n",
       "        vertical-align: top;\n",
       "    }\n",
       "\n",
       "    .dataframe thead th {\n",
       "        text-align: right;\n",
       "    }\n",
       "</style>\n",
       "<table border=\"1\" class=\"dataframe\">\n",
       "  <thead>\n",
       "    <tr style=\"text-align: right;\">\n",
       "      <th></th>\n",
       "      <th>이름</th>\n",
       "      <th>통솔</th>\n",
       "      <th>무력</th>\n",
       "      <th>지력</th>\n",
       "      <th>정치</th>\n",
       "      <th>매력</th>\n",
       "    </tr>\n",
       "  </thead>\n",
       "  <tbody>\n",
       "    <tr>\n",
       "      <th>B</th>\n",
       "      <td>조운</td>\n",
       "      <td>91</td>\n",
       "      <td>97</td>\n",
       "      <td>76</td>\n",
       "      <td>65</td>\n",
       "      <td>81</td>\n",
       "    </tr>\n",
       "  </tbody>\n",
       "</table>\n",
       "</div>"
      ],
      "text/plain": [
       "   이름  통솔  무력  지력  정치  매력\n",
       "B  조운  91  97  76  65  81"
      ]
     },
     "execution_count": 16,
     "metadata": {},
     "output_type": "execute_result"
    }
   ],
   "source": [
    "# 인덱스 슬라이싱 \n",
    "c2[1:2]"
   ]
  },
  {
   "cell_type": "markdown",
   "metadata": {},
   "source": [
    "## 칼럼, 인덱스 기준-특정 데이터 조회 \n",
    "`loc`, `iloc`, `at`를 이용하여 특정 데이터에 접근할 수 있습니다. 칼럼, 인덱스 위치를 동시에 사용하여 데이터에 접근합니다. "
   ]
  },
  {
   "cell_type": "code",
   "execution_count": 17,
   "metadata": {},
   "outputs": [
    {
     "data": {
      "text/plain": [
       "이름    조운\n",
       "Name: 1, dtype: object"
      ]
     },
     "execution_count": 17,
     "metadata": {},
     "output_type": "execute_result"
    }
   ],
   "source": [
    "# 인덱스명. 칼럼명 이용 \n",
    "c.loc[1, ['이름']]"
   ]
  },
  {
   "cell_type": "code",
   "execution_count": 18,
   "metadata": {},
   "outputs": [
    {
     "data": {
      "text/plain": [
       "91"
      ]
     },
     "execution_count": 18,
     "metadata": {},
     "output_type": "execute_result"
    }
   ],
   "source": [
    "# 인덱스 번호, 칼럼 번호 이용 \n",
    "c.iloc[1, 1]"
   ]
  },
  {
   "cell_type": "code",
   "execution_count": 19,
   "metadata": {},
   "outputs": [
    {
     "data": {
      "text/plain": [
       "'조운'"
      ]
     },
     "execution_count": 19,
     "metadata": {},
     "output_type": "execute_result"
    }
   ],
   "source": [
    "# 인덱스명, 칼럼명 이용. 값만 반환 \n",
    "c.at[1, '이름']"
   ]
  },
  {
   "cell_type": "markdown",
   "metadata": {},
   "source": [
    "## 조건 \n",
    "조건식을 이용하여 조회할 수 있습니다. `AND(&)`, `OR(|)` 조건을 이용할 수 있고, `isin()`을 이용하여 특정값을 찾을 수 있습니다. "
   ]
  },
  {
   "cell_type": "code",
   "execution_count": 20,
   "metadata": {},
   "outputs": [
    {
     "data": {
      "text/html": [
       "<div>\n",
       "<style scoped>\n",
       "    .dataframe tbody tr th:only-of-type {\n",
       "        vertical-align: middle;\n",
       "    }\n",
       "\n",
       "    .dataframe tbody tr th {\n",
       "        vertical-align: top;\n",
       "    }\n",
       "\n",
       "    .dataframe thead th {\n",
       "        text-align: right;\n",
       "    }\n",
       "</style>\n",
       "<table border=\"1\" class=\"dataframe\">\n",
       "  <thead>\n",
       "    <tr style=\"text-align: right;\">\n",
       "      <th></th>\n",
       "      <th>이름</th>\n",
       "      <th>통솔</th>\n",
       "      <th>무력</th>\n",
       "      <th>지력</th>\n",
       "      <th>정치</th>\n",
       "      <th>매력</th>\n",
       "    </tr>\n",
       "  </thead>\n",
       "  <tbody>\n",
       "    <tr>\n",
       "      <th>1</th>\n",
       "      <td>조운</td>\n",
       "      <td>91</td>\n",
       "      <td>97</td>\n",
       "      <td>76</td>\n",
       "      <td>65</td>\n",
       "      <td>81</td>\n",
       "    </tr>\n",
       "  </tbody>\n",
       "</table>\n",
       "</div>"
      ],
      "text/plain": [
       "   이름  통솔  무력  지력  정치  매력\n",
       "1  조운  91  97  76  65  81"
      ]
     },
     "execution_count": 20,
     "metadata": {},
     "output_type": "execute_result"
    }
   ],
   "source": [
    "# 무력 90 이상 \n",
    "c[c['무력'] > 90]"
   ]
  },
  {
   "cell_type": "code",
   "execution_count": 21,
   "metadata": {},
   "outputs": [
    {
     "data": {
      "text/html": [
       "<div>\n",
       "<style scoped>\n",
       "    .dataframe tbody tr th:only-of-type {\n",
       "        vertical-align: middle;\n",
       "    }\n",
       "\n",
       "    .dataframe tbody tr th {\n",
       "        vertical-align: top;\n",
       "    }\n",
       "\n",
       "    .dataframe thead th {\n",
       "        text-align: right;\n",
       "    }\n",
       "</style>\n",
       "<table border=\"1\" class=\"dataframe\">\n",
       "  <thead>\n",
       "    <tr style=\"text-align: right;\">\n",
       "      <th></th>\n",
       "      <th>이름</th>\n",
       "      <th>통솔</th>\n",
       "      <th>무력</th>\n",
       "      <th>지력</th>\n",
       "      <th>정치</th>\n",
       "      <th>매력</th>\n",
       "    </tr>\n",
       "  </thead>\n",
       "  <tbody>\n",
       "    <tr>\n",
       "      <th>0</th>\n",
       "      <td>조조</td>\n",
       "      <td>96</td>\n",
       "      <td>72</td>\n",
       "      <td>91</td>\n",
       "      <td>94</td>\n",
       "      <td>96</td>\n",
       "    </tr>\n",
       "    <tr>\n",
       "      <th>2</th>\n",
       "      <td>주유</td>\n",
       "      <td>97</td>\n",
       "      <td>71</td>\n",
       "      <td>96</td>\n",
       "      <td>87</td>\n",
       "      <td>93</td>\n",
       "    </tr>\n",
       "  </tbody>\n",
       "</table>\n",
       "</div>"
      ],
      "text/plain": [
       "   이름  통솔  무력  지력  정치  매력\n",
       "0  조조  96  72  91  94  96\n",
       "2  주유  97  71  96  87  93"
      ]
     },
     "execution_count": 21,
     "metadata": {},
     "output_type": "execute_result"
    }
   ],
   "source": [
    "# 통솔, 지력이 모두 90 초과 \n",
    "c[(c['통솔'] > 90) & (c['지력'] > 90)]"
   ]
  },
  {
   "cell_type": "code",
   "execution_count": 22,
   "metadata": {},
   "outputs": [
    {
     "data": {
      "text/html": [
       "<div>\n",
       "<style scoped>\n",
       "    .dataframe tbody tr th:only-of-type {\n",
       "        vertical-align: middle;\n",
       "    }\n",
       "\n",
       "    .dataframe tbody tr th {\n",
       "        vertical-align: top;\n",
       "    }\n",
       "\n",
       "    .dataframe thead th {\n",
       "        text-align: right;\n",
       "    }\n",
       "</style>\n",
       "<table border=\"1\" class=\"dataframe\">\n",
       "  <thead>\n",
       "    <tr style=\"text-align: right;\">\n",
       "      <th></th>\n",
       "      <th>이름</th>\n",
       "      <th>통솔</th>\n",
       "      <th>무력</th>\n",
       "      <th>지력</th>\n",
       "      <th>정치</th>\n",
       "      <th>매력</th>\n",
       "    </tr>\n",
       "  </thead>\n",
       "  <tbody>\n",
       "    <tr>\n",
       "      <th>0</th>\n",
       "      <td>조조</td>\n",
       "      <td>96</td>\n",
       "      <td>72</td>\n",
       "      <td>91</td>\n",
       "      <td>94</td>\n",
       "      <td>96</td>\n",
       "    </tr>\n",
       "    <tr>\n",
       "      <th>1</th>\n",
       "      <td>조운</td>\n",
       "      <td>91</td>\n",
       "      <td>97</td>\n",
       "      <td>76</td>\n",
       "      <td>65</td>\n",
       "      <td>81</td>\n",
       "    </tr>\n",
       "    <tr>\n",
       "      <th>2</th>\n",
       "      <td>주유</td>\n",
       "      <td>97</td>\n",
       "      <td>71</td>\n",
       "      <td>96</td>\n",
       "      <td>87</td>\n",
       "      <td>93</td>\n",
       "    </tr>\n",
       "  </tbody>\n",
       "</table>\n",
       "</div>"
      ],
      "text/plain": [
       "   이름  통솔  무력  지력  정치  매력\n",
       "0  조조  96  72  91  94  96\n",
       "1  조운  91  97  76  65  81\n",
       "2  주유  97  71  96  87  93"
      ]
     },
     "execution_count": 22,
     "metadata": {},
     "output_type": "execute_result"
    }
   ],
   "source": [
    "# 무럭이 97, 71에 있음 \n",
    "c[(c['통솔'] > 90) | (c['지력'] > 90)]"
   ]
  },
  {
   "cell_type": "markdown",
   "metadata": {},
   "source": [
    "# 추가 \n",
    "신규 칼럼을 추가할 때는 새로운 칼럼명에 추가할 데이터를 대입하면 됩니다. 데이터 추가는 동일한 길이의 배열을 대입합니다. "
   ]
  },
  {
   "cell_type": "code",
   "execution_count": 23,
   "metadata": {},
   "outputs": [
    {
     "data": {
      "text/html": [
       "<div>\n",
       "<style scoped>\n",
       "    .dataframe tbody tr th:only-of-type {\n",
       "        vertical-align: middle;\n",
       "    }\n",
       "\n",
       "    .dataframe tbody tr th {\n",
       "        vertical-align: top;\n",
       "    }\n",
       "\n",
       "    .dataframe thead th {\n",
       "        text-align: right;\n",
       "    }\n",
       "</style>\n",
       "<table border=\"1\" class=\"dataframe\">\n",
       "  <thead>\n",
       "    <tr style=\"text-align: right;\">\n",
       "      <th></th>\n",
       "      <th>이름</th>\n",
       "      <th>통솔</th>\n",
       "      <th>무력</th>\n",
       "      <th>지력</th>\n",
       "      <th>정치</th>\n",
       "      <th>매력</th>\n",
       "      <th>자</th>\n",
       "    </tr>\n",
       "  </thead>\n",
       "  <tbody>\n",
       "    <tr>\n",
       "      <th>0</th>\n",
       "      <td>조조</td>\n",
       "      <td>96</td>\n",
       "      <td>72</td>\n",
       "      <td>91</td>\n",
       "      <td>94</td>\n",
       "      <td>96</td>\n",
       "      <td>맹덕</td>\n",
       "    </tr>\n",
       "    <tr>\n",
       "      <th>1</th>\n",
       "      <td>조운</td>\n",
       "      <td>91</td>\n",
       "      <td>97</td>\n",
       "      <td>76</td>\n",
       "      <td>65</td>\n",
       "      <td>81</td>\n",
       "      <td>자룡</td>\n",
       "    </tr>\n",
       "    <tr>\n",
       "      <th>2</th>\n",
       "      <td>주유</td>\n",
       "      <td>97</td>\n",
       "      <td>71</td>\n",
       "      <td>96</td>\n",
       "      <td>87</td>\n",
       "      <td>93</td>\n",
       "      <td>공근</td>\n",
       "    </tr>\n",
       "  </tbody>\n",
       "</table>\n",
       "</div>"
      ],
      "text/plain": [
       "   이름  통솔  무력  지력  정치  매력   자\n",
       "0  조조  96  72  91  94  96  맹덕\n",
       "1  조운  91  97  76  65  81  자룡\n",
       "2  주유  97  71  96  87  93  공근"
      ]
     },
     "execution_count": 23,
     "metadata": {},
     "output_type": "execute_result"
    }
   ],
   "source": [
    "# 신규 칼럼 추가 \n",
    "# 새로운 데이터를 이용한 추가 \n",
    "c[\"자\"] = [\"맹덕\", \"자룡\", \"공근\"]\n",
    "c"
   ]
  },
  {
   "cell_type": "code",
   "execution_count": 24,
   "metadata": {},
   "outputs": [
    {
     "data": {
      "text/html": [
       "<div>\n",
       "<style scoped>\n",
       "    .dataframe tbody tr th:only-of-type {\n",
       "        vertical-align: middle;\n",
       "    }\n",
       "\n",
       "    .dataframe tbody tr th {\n",
       "        vertical-align: top;\n",
       "    }\n",
       "\n",
       "    .dataframe thead th {\n",
       "        text-align: right;\n",
       "    }\n",
       "</style>\n",
       "<table border=\"1\" class=\"dataframe\">\n",
       "  <thead>\n",
       "    <tr style=\"text-align: right;\">\n",
       "      <th></th>\n",
       "      <th>이름</th>\n",
       "      <th>통솔</th>\n",
       "      <th>무력</th>\n",
       "      <th>지력</th>\n",
       "      <th>정치</th>\n",
       "      <th>매력</th>\n",
       "      <th>자</th>\n",
       "      <th>무력+10</th>\n",
       "    </tr>\n",
       "  </thead>\n",
       "  <tbody>\n",
       "    <tr>\n",
       "      <th>0</th>\n",
       "      <td>조조</td>\n",
       "      <td>96</td>\n",
       "      <td>72</td>\n",
       "      <td>91</td>\n",
       "      <td>94</td>\n",
       "      <td>96</td>\n",
       "      <td>맹덕</td>\n",
       "      <td>82</td>\n",
       "    </tr>\n",
       "    <tr>\n",
       "      <th>1</th>\n",
       "      <td>조운</td>\n",
       "      <td>91</td>\n",
       "      <td>97</td>\n",
       "      <td>76</td>\n",
       "      <td>65</td>\n",
       "      <td>81</td>\n",
       "      <td>자룡</td>\n",
       "      <td>107</td>\n",
       "    </tr>\n",
       "    <tr>\n",
       "      <th>2</th>\n",
       "      <td>주유</td>\n",
       "      <td>97</td>\n",
       "      <td>71</td>\n",
       "      <td>96</td>\n",
       "      <td>87</td>\n",
       "      <td>93</td>\n",
       "      <td>공근</td>\n",
       "      <td>81</td>\n",
       "    </tr>\n",
       "  </tbody>\n",
       "</table>\n",
       "</div>"
      ],
      "text/plain": [
       "   이름  통솔  무력  지력  정치  매력   자  무력+10\n",
       "0  조조  96  72  91  94  96  맹덕     82\n",
       "1  조운  91  97  76  65  81  자룡    107\n",
       "2  주유  97  71  96  87  93  공근     81"
      ]
     },
     "execution_count": 24,
     "metadata": {},
     "output_type": "execute_result"
    }
   ],
   "source": [
    "# 기존 데이터를 이용하여 추가 \n",
    "c[\"무력+10\"] = c[\"무력\"] + 10\n",
    "c"
   ]
  },
  {
   "cell_type": "markdown",
   "metadata": {},
   "source": [
    "# 변경\n",
    "\n",
    "## 칼럼의 데이터에 동일한 작업\n",
    "한 칼럼의 데이터에 동일한 작업은 칼럼에 접근하여 데이터를 조작하면 됩니다. 데이터를 조작하면 복사된 데이터를 반환하기 때문에 원하는 위치에 대입해 주어야 합니다. "
   ]
  },
  {
   "cell_type": "code",
   "execution_count": 25,
   "metadata": {},
   "outputs": [
    {
     "data": {
      "text/html": [
       "<div>\n",
       "<style scoped>\n",
       "    .dataframe tbody tr th:only-of-type {\n",
       "        vertical-align: middle;\n",
       "    }\n",
       "\n",
       "    .dataframe tbody tr th {\n",
       "        vertical-align: top;\n",
       "    }\n",
       "\n",
       "    .dataframe thead th {\n",
       "        text-align: right;\n",
       "    }\n",
       "</style>\n",
       "<table border=\"1\" class=\"dataframe\">\n",
       "  <thead>\n",
       "    <tr style=\"text-align: right;\">\n",
       "      <th></th>\n",
       "      <th>이름</th>\n",
       "      <th>통솔</th>\n",
       "      <th>무력</th>\n",
       "      <th>지력</th>\n",
       "      <th>정치</th>\n",
       "      <th>매력</th>\n",
       "      <th>자</th>\n",
       "      <th>무력+10</th>\n",
       "    </tr>\n",
       "  </thead>\n",
       "  <tbody>\n",
       "    <tr>\n",
       "      <th>0</th>\n",
       "      <td>조조</td>\n",
       "      <td>96</td>\n",
       "      <td>82</td>\n",
       "      <td>91</td>\n",
       "      <td>94</td>\n",
       "      <td>96</td>\n",
       "      <td>맹덕</td>\n",
       "      <td>82</td>\n",
       "    </tr>\n",
       "    <tr>\n",
       "      <th>1</th>\n",
       "      <td>조운</td>\n",
       "      <td>91</td>\n",
       "      <td>107</td>\n",
       "      <td>76</td>\n",
       "      <td>65</td>\n",
       "      <td>81</td>\n",
       "      <td>자룡</td>\n",
       "      <td>107</td>\n",
       "    </tr>\n",
       "    <tr>\n",
       "      <th>2</th>\n",
       "      <td>주유</td>\n",
       "      <td>97</td>\n",
       "      <td>81</td>\n",
       "      <td>96</td>\n",
       "      <td>87</td>\n",
       "      <td>93</td>\n",
       "      <td>공근</td>\n",
       "      <td>81</td>\n",
       "    </tr>\n",
       "  </tbody>\n",
       "</table>\n",
       "</div>"
      ],
      "text/plain": [
       "   이름  통솔   무력  지력  정치  매력   자  무력+10\n",
       "0  조조  96   82  91  94  96  맹덕     82\n",
       "1  조운  91  107  76  65  81  자룡    107\n",
       "2  주유  97   81  96  87  93  공근     81"
      ]
     },
     "execution_count": 25,
     "metadata": {},
     "output_type": "execute_result"
    }
   ],
   "source": [
    "# 모든 칼럼에 동일한 작업 \n",
    "c['무력'] = c['무력'] + 10\n",
    "c"
   ]
  },
  {
   "cell_type": "markdown",
   "metadata": {},
   "source": [
    "## 특정 조건의 데이터 변경\n",
    "특정 조건으로 데이터를 검색하여 그 데이터의 다른 칼럼을 변경하고자 할 때는 `loc`를 이용합니다. "
   ]
  },
  {
   "cell_type": "code",
   "execution_count": 26,
   "metadata": {},
   "outputs": [
    {
     "data": {
      "text/html": [
       "<div>\n",
       "<style scoped>\n",
       "    .dataframe tbody tr th:only-of-type {\n",
       "        vertical-align: middle;\n",
       "    }\n",
       "\n",
       "    .dataframe tbody tr th {\n",
       "        vertical-align: top;\n",
       "    }\n",
       "\n",
       "    .dataframe thead th {\n",
       "        text-align: right;\n",
       "    }\n",
       "</style>\n",
       "<table border=\"1\" class=\"dataframe\">\n",
       "  <thead>\n",
       "    <tr style=\"text-align: right;\">\n",
       "      <th></th>\n",
       "      <th>이름</th>\n",
       "      <th>통솔</th>\n",
       "      <th>무력</th>\n",
       "      <th>지력</th>\n",
       "      <th>정치</th>\n",
       "      <th>매력</th>\n",
       "      <th>자</th>\n",
       "      <th>무력+10</th>\n",
       "    </tr>\n",
       "  </thead>\n",
       "  <tbody>\n",
       "    <tr>\n",
       "      <th>0</th>\n",
       "      <td>조조</td>\n",
       "      <td>96</td>\n",
       "      <td>82</td>\n",
       "      <td>91</td>\n",
       "      <td>94</td>\n",
       "      <td>96</td>\n",
       "      <td>맹덕</td>\n",
       "      <td>82</td>\n",
       "    </tr>\n",
       "    <tr>\n",
       "      <th>1</th>\n",
       "      <td>조운</td>\n",
       "      <td>91</td>\n",
       "      <td>107</td>\n",
       "      <td>76</td>\n",
       "      <td>65</td>\n",
       "      <td>110</td>\n",
       "      <td>자룡</td>\n",
       "      <td>107</td>\n",
       "    </tr>\n",
       "    <tr>\n",
       "      <th>2</th>\n",
       "      <td>주유</td>\n",
       "      <td>97</td>\n",
       "      <td>81</td>\n",
       "      <td>96</td>\n",
       "      <td>87</td>\n",
       "      <td>93</td>\n",
       "      <td>공근</td>\n",
       "      <td>81</td>\n",
       "    </tr>\n",
       "  </tbody>\n",
       "</table>\n",
       "</div>"
      ],
      "text/plain": [
       "   이름  통솔   무력  지력  정치   매력   자  무력+10\n",
       "0  조조  96   82  91  94   96  맹덕     82\n",
       "1  조운  91  107  76  65  110  자룡    107\n",
       "2  주유  97   81  96  87   93  공근     81"
      ]
     },
     "execution_count": 26,
     "metadata": {},
     "output_type": "execute_result"
    }
   ],
   "source": [
    "# 무력이 100보다 큰 데이터의 매력을 110으로 변경 \n",
    "c.loc[c['무력'] > 100, ['매력']] = 110\n",
    "c"
   ]
  },
  {
   "cell_type": "markdown",
   "metadata": {},
   "source": [
    "## 특정 위치의 데이터 변경 \n",
    "특정 위치의 데이터 변경은 `at`을 이용하면됩니다. "
   ]
  },
  {
   "cell_type": "code",
   "execution_count": 27,
   "metadata": {},
   "outputs": [
    {
     "data": {
      "text/html": [
       "<div>\n",
       "<style scoped>\n",
       "    .dataframe tbody tr th:only-of-type {\n",
       "        vertical-align: middle;\n",
       "    }\n",
       "\n",
       "    .dataframe tbody tr th {\n",
       "        vertical-align: top;\n",
       "    }\n",
       "\n",
       "    .dataframe thead th {\n",
       "        text-align: right;\n",
       "    }\n",
       "</style>\n",
       "<table border=\"1\" class=\"dataframe\">\n",
       "  <thead>\n",
       "    <tr style=\"text-align: right;\">\n",
       "      <th></th>\n",
       "      <th>이름</th>\n",
       "      <th>통솔</th>\n",
       "      <th>무력</th>\n",
       "      <th>지력</th>\n",
       "      <th>정치</th>\n",
       "      <th>매력</th>\n",
       "      <th>자</th>\n",
       "      <th>무력+10</th>\n",
       "    </tr>\n",
       "  </thead>\n",
       "  <tbody>\n",
       "    <tr>\n",
       "      <th>0</th>\n",
       "      <td>조조</td>\n",
       "      <td>96</td>\n",
       "      <td>82</td>\n",
       "      <td>91</td>\n",
       "      <td>94</td>\n",
       "      <td>96</td>\n",
       "      <td>맹덕</td>\n",
       "      <td>82</td>\n",
       "    </tr>\n",
       "    <tr>\n",
       "      <th>1</th>\n",
       "      <td>자룡</td>\n",
       "      <td>91</td>\n",
       "      <td>107</td>\n",
       "      <td>76</td>\n",
       "      <td>65</td>\n",
       "      <td>110</td>\n",
       "      <td>자룡</td>\n",
       "      <td>107</td>\n",
       "    </tr>\n",
       "    <tr>\n",
       "      <th>2</th>\n",
       "      <td>주유</td>\n",
       "      <td>97</td>\n",
       "      <td>81</td>\n",
       "      <td>96</td>\n",
       "      <td>87</td>\n",
       "      <td>93</td>\n",
       "      <td>공근</td>\n",
       "      <td>81</td>\n",
       "    </tr>\n",
       "  </tbody>\n",
       "</table>\n",
       "</div>"
      ],
      "text/plain": [
       "   이름  통솔   무력  지력  정치   매력   자  무력+10\n",
       "0  조조  96   82  91  94   96  맹덕     82\n",
       "1  자룡  91  107  76  65  110  자룡    107\n",
       "2  주유  97   81  96  87   93  공근     81"
      ]
     },
     "execution_count": 27,
     "metadata": {},
     "output_type": "execute_result"
    }
   ],
   "source": [
    "# 1번 인덱스의 이름을 자룡으로 변경 \n",
    "c.at[1, '이름'] = \"자룡\"\n",
    "c"
   ]
  },
  {
   "cell_type": "markdown",
   "metadata": {},
   "source": [
    "# 삭제\n",
    "삭제 할 때는 `del`이나 `drop()`을 이용합니다. `drop()`은 삭제된 값을 복사해서 반환합니다. `inplace`옵션을 이용하여 바로 삭제할 수 있습니다. `axis`를 이용하여 삭제 할 데이터를 정확하게 선택해야 합니다. "
   ]
  },
  {
   "cell_type": "code",
   "execution_count": 28,
   "metadata": {},
   "outputs": [
    {
     "data": {
      "text/html": [
       "<div>\n",
       "<style scoped>\n",
       "    .dataframe tbody tr th:only-of-type {\n",
       "        vertical-align: middle;\n",
       "    }\n",
       "\n",
       "    .dataframe tbody tr th {\n",
       "        vertical-align: top;\n",
       "    }\n",
       "\n",
       "    .dataframe thead th {\n",
       "        text-align: right;\n",
       "    }\n",
       "</style>\n",
       "<table border=\"1\" class=\"dataframe\">\n",
       "  <thead>\n",
       "    <tr style=\"text-align: right;\">\n",
       "      <th></th>\n",
       "      <th>이름</th>\n",
       "      <th>무력</th>\n",
       "      <th>지력</th>\n",
       "      <th>정치</th>\n",
       "      <th>매력</th>\n",
       "      <th>자</th>\n",
       "      <th>무력+10</th>\n",
       "    </tr>\n",
       "  </thead>\n",
       "  <tbody>\n",
       "    <tr>\n",
       "      <th>0</th>\n",
       "      <td>조조</td>\n",
       "      <td>82</td>\n",
       "      <td>91</td>\n",
       "      <td>94</td>\n",
       "      <td>96</td>\n",
       "      <td>맹덕</td>\n",
       "      <td>82</td>\n",
       "    </tr>\n",
       "    <tr>\n",
       "      <th>1</th>\n",
       "      <td>자룡</td>\n",
       "      <td>107</td>\n",
       "      <td>76</td>\n",
       "      <td>65</td>\n",
       "      <td>110</td>\n",
       "      <td>자룡</td>\n",
       "      <td>107</td>\n",
       "    </tr>\n",
       "    <tr>\n",
       "      <th>2</th>\n",
       "      <td>주유</td>\n",
       "      <td>81</td>\n",
       "      <td>96</td>\n",
       "      <td>87</td>\n",
       "      <td>93</td>\n",
       "      <td>공근</td>\n",
       "      <td>81</td>\n",
       "    </tr>\n",
       "  </tbody>\n",
       "</table>\n",
       "</div>"
      ],
      "text/plain": [
       "   이름   무력  지력  정치   매력   자  무력+10\n",
       "0  조조   82  91  94   96  맹덕     82\n",
       "1  자룡  107  76  65  110  자룡    107\n",
       "2  주유   81  96  87   93  공근     81"
      ]
     },
     "execution_count": 28,
     "metadata": {},
     "output_type": "execute_result"
    }
   ],
   "source": [
    "# 통솔 삭제 \n",
    "del c[\"통솔\"]\n",
    "c"
   ]
  },
  {
   "cell_type": "code",
   "execution_count": 29,
   "metadata": {},
   "outputs": [
    {
     "data": {
      "text/html": [
       "<div>\n",
       "<style scoped>\n",
       "    .dataframe tbody tr th:only-of-type {\n",
       "        vertical-align: middle;\n",
       "    }\n",
       "\n",
       "    .dataframe tbody tr th {\n",
       "        vertical-align: top;\n",
       "    }\n",
       "\n",
       "    .dataframe thead th {\n",
       "        text-align: right;\n",
       "    }\n",
       "</style>\n",
       "<table border=\"1\" class=\"dataframe\">\n",
       "  <thead>\n",
       "    <tr style=\"text-align: right;\">\n",
       "      <th></th>\n",
       "      <th>이름</th>\n",
       "      <th>지력</th>\n",
       "      <th>정치</th>\n",
       "      <th>매력</th>\n",
       "      <th>자</th>\n",
       "      <th>무력+10</th>\n",
       "    </tr>\n",
       "  </thead>\n",
       "  <tbody>\n",
       "    <tr>\n",
       "      <th>0</th>\n",
       "      <td>조조</td>\n",
       "      <td>91</td>\n",
       "      <td>94</td>\n",
       "      <td>96</td>\n",
       "      <td>맹덕</td>\n",
       "      <td>82</td>\n",
       "    </tr>\n",
       "    <tr>\n",
       "      <th>1</th>\n",
       "      <td>자룡</td>\n",
       "      <td>76</td>\n",
       "      <td>65</td>\n",
       "      <td>110</td>\n",
       "      <td>자룡</td>\n",
       "      <td>107</td>\n",
       "    </tr>\n",
       "    <tr>\n",
       "      <th>2</th>\n",
       "      <td>주유</td>\n",
       "      <td>96</td>\n",
       "      <td>87</td>\n",
       "      <td>93</td>\n",
       "      <td>공근</td>\n",
       "      <td>81</td>\n",
       "    </tr>\n",
       "  </tbody>\n",
       "</table>\n",
       "</div>"
      ],
      "text/plain": [
       "   이름  지력  정치   매력   자  무력+10\n",
       "0  조조  91  94   96  맹덕     82\n",
       "1  자룡  76  65  110  자룡    107\n",
       "2  주유  96  87   93  공근     81"
      ]
     },
     "execution_count": 29,
     "metadata": {},
     "output_type": "execute_result"
    }
   ],
   "source": [
    "# 무력 삭제. axis=1 이므로 칼럼 데이터 삭제\n",
    "# 실제 데이터 삭제가 아님. \n",
    "c.drop([\"무력\"], axis=1)"
   ]
  },
  {
   "cell_type": "code",
   "execution_count": 30,
   "metadata": {},
   "outputs": [
    {
     "data": {
      "text/html": [
       "<div>\n",
       "<style scoped>\n",
       "    .dataframe tbody tr th:only-of-type {\n",
       "        vertical-align: middle;\n",
       "    }\n",
       "\n",
       "    .dataframe tbody tr th {\n",
       "        vertical-align: top;\n",
       "    }\n",
       "\n",
       "    .dataframe thead th {\n",
       "        text-align: right;\n",
       "    }\n",
       "</style>\n",
       "<table border=\"1\" class=\"dataframe\">\n",
       "  <thead>\n",
       "    <tr style=\"text-align: right;\">\n",
       "      <th></th>\n",
       "      <th>이름</th>\n",
       "      <th>무력</th>\n",
       "      <th>지력</th>\n",
       "      <th>정치</th>\n",
       "      <th>매력</th>\n",
       "      <th>자</th>\n",
       "      <th>무력+10</th>\n",
       "    </tr>\n",
       "  </thead>\n",
       "  <tbody>\n",
       "    <tr>\n",
       "      <th>0</th>\n",
       "      <td>조조</td>\n",
       "      <td>82</td>\n",
       "      <td>91</td>\n",
       "      <td>94</td>\n",
       "      <td>96</td>\n",
       "      <td>맹덕</td>\n",
       "      <td>82</td>\n",
       "    </tr>\n",
       "    <tr>\n",
       "      <th>1</th>\n",
       "      <td>자룡</td>\n",
       "      <td>107</td>\n",
       "      <td>76</td>\n",
       "      <td>65</td>\n",
       "      <td>110</td>\n",
       "      <td>자룡</td>\n",
       "      <td>107</td>\n",
       "    </tr>\n",
       "    <tr>\n",
       "      <th>2</th>\n",
       "      <td>주유</td>\n",
       "      <td>81</td>\n",
       "      <td>96</td>\n",
       "      <td>87</td>\n",
       "      <td>93</td>\n",
       "      <td>공근</td>\n",
       "      <td>81</td>\n",
       "    </tr>\n",
       "  </tbody>\n",
       "</table>\n",
       "</div>"
      ],
      "text/plain": [
       "   이름   무력  지력  정치   매력   자  무력+10\n",
       "0  조조   82  91  94   96  맹덕     82\n",
       "1  자룡  107  76  65  110  자룡    107\n",
       "2  주유   81  96  87   93  공근     81"
      ]
     },
     "execution_count": 30,
     "metadata": {},
     "output_type": "execute_result"
    }
   ],
   "source": [
    "# 실제 데이터의 삭제는 아님 \n",
    "c"
   ]
  },
  {
   "cell_type": "code",
   "execution_count": 31,
   "metadata": {},
   "outputs": [
    {
     "data": {
      "text/html": [
       "<div>\n",
       "<style scoped>\n",
       "    .dataframe tbody tr th:only-of-type {\n",
       "        vertical-align: middle;\n",
       "    }\n",
       "\n",
       "    .dataframe tbody tr th {\n",
       "        vertical-align: top;\n",
       "    }\n",
       "\n",
       "    .dataframe thead th {\n",
       "        text-align: right;\n",
       "    }\n",
       "</style>\n",
       "<table border=\"1\" class=\"dataframe\">\n",
       "  <thead>\n",
       "    <tr style=\"text-align: right;\">\n",
       "      <th></th>\n",
       "      <th>이름</th>\n",
       "      <th>무력</th>\n",
       "      <th>지력</th>\n",
       "      <th>정치</th>\n",
       "      <th>매력</th>\n",
       "      <th>자</th>\n",
       "      <th>무력+10</th>\n",
       "    </tr>\n",
       "  </thead>\n",
       "  <tbody>\n",
       "    <tr>\n",
       "      <th>1</th>\n",
       "      <td>자룡</td>\n",
       "      <td>107</td>\n",
       "      <td>76</td>\n",
       "      <td>65</td>\n",
       "      <td>110</td>\n",
       "      <td>자룡</td>\n",
       "      <td>107</td>\n",
       "    </tr>\n",
       "    <tr>\n",
       "      <th>2</th>\n",
       "      <td>주유</td>\n",
       "      <td>81</td>\n",
       "      <td>96</td>\n",
       "      <td>87</td>\n",
       "      <td>93</td>\n",
       "      <td>공근</td>\n",
       "      <td>81</td>\n",
       "    </tr>\n",
       "  </tbody>\n",
       "</table>\n",
       "</div>"
      ],
      "text/plain": [
       "   이름   무력  지력  정치   매력   자  무력+10\n",
       "1  자룡  107  76  65  110  자룡    107\n",
       "2  주유   81  96  87   93  공근     81"
      ]
     },
     "execution_count": 31,
     "metadata": {},
     "output_type": "execute_result"
    }
   ],
   "source": [
    "# 0번 인덱스 값을 삭제 \n",
    "c.drop(0, axis=0)"
   ]
  },
  {
   "cell_type": "code",
   "execution_count": 32,
   "metadata": {},
   "outputs": [
    {
     "data": {
      "text/html": [
       "<div>\n",
       "<style scoped>\n",
       "    .dataframe tbody tr th:only-of-type {\n",
       "        vertical-align: middle;\n",
       "    }\n",
       "\n",
       "    .dataframe tbody tr th {\n",
       "        vertical-align: top;\n",
       "    }\n",
       "\n",
       "    .dataframe thead th {\n",
       "        text-align: right;\n",
       "    }\n",
       "</style>\n",
       "<table border=\"1\" class=\"dataframe\">\n",
       "  <thead>\n",
       "    <tr style=\"text-align: right;\">\n",
       "      <th></th>\n",
       "      <th>이름</th>\n",
       "      <th>무력</th>\n",
       "      <th>지력</th>\n",
       "      <th>정치</th>\n",
       "      <th>매력</th>\n",
       "      <th>자</th>\n",
       "      <th>무력+10</th>\n",
       "    </tr>\n",
       "  </thead>\n",
       "  <tbody>\n",
       "    <tr>\n",
       "      <th>0</th>\n",
       "      <td>조조</td>\n",
       "      <td>82</td>\n",
       "      <td>91</td>\n",
       "      <td>94</td>\n",
       "      <td>96</td>\n",
       "      <td>맹덕</td>\n",
       "      <td>82</td>\n",
       "    </tr>\n",
       "    <tr>\n",
       "      <th>1</th>\n",
       "      <td>자룡</td>\n",
       "      <td>107</td>\n",
       "      <td>76</td>\n",
       "      <td>65</td>\n",
       "      <td>110</td>\n",
       "      <td>자룡</td>\n",
       "      <td>107</td>\n",
       "    </tr>\n",
       "    <tr>\n",
       "      <th>2</th>\n",
       "      <td>주유</td>\n",
       "      <td>81</td>\n",
       "      <td>96</td>\n",
       "      <td>87</td>\n",
       "      <td>93</td>\n",
       "      <td>공근</td>\n",
       "      <td>81</td>\n",
       "    </tr>\n",
       "  </tbody>\n",
       "</table>\n",
       "</div>"
      ],
      "text/plain": [
       "   이름   무력  지력  정치   매력   자  무력+10\n",
       "0  조조   82  91  94   96  맹덕     82\n",
       "1  자룡  107  76  65  110  자룡    107\n",
       "2  주유   81  96  87   93  공근     81"
      ]
     },
     "execution_count": 32,
     "metadata": {},
     "output_type": "execute_result"
    }
   ],
   "source": [
    "# 실제 데이터의 삭제는 아님 \n",
    "c"
   ]
  },
  {
   "cell_type": "code",
   "execution_count": 33,
   "metadata": {},
   "outputs": [
    {
     "data": {
      "text/html": [
       "<div>\n",
       "<style scoped>\n",
       "    .dataframe tbody tr th:only-of-type {\n",
       "        vertical-align: middle;\n",
       "    }\n",
       "\n",
       "    .dataframe tbody tr th {\n",
       "        vertical-align: top;\n",
       "    }\n",
       "\n",
       "    .dataframe thead th {\n",
       "        text-align: right;\n",
       "    }\n",
       "</style>\n",
       "<table border=\"1\" class=\"dataframe\">\n",
       "  <thead>\n",
       "    <tr style=\"text-align: right;\">\n",
       "      <th></th>\n",
       "      <th>이름</th>\n",
       "      <th>지력</th>\n",
       "      <th>정치</th>\n",
       "      <th>매력</th>\n",
       "      <th>자</th>\n",
       "      <th>무력+10</th>\n",
       "    </tr>\n",
       "  </thead>\n",
       "  <tbody>\n",
       "    <tr>\n",
       "      <th>0</th>\n",
       "      <td>조조</td>\n",
       "      <td>91</td>\n",
       "      <td>94</td>\n",
       "      <td>96</td>\n",
       "      <td>맹덕</td>\n",
       "      <td>82</td>\n",
       "    </tr>\n",
       "    <tr>\n",
       "      <th>1</th>\n",
       "      <td>자룡</td>\n",
       "      <td>76</td>\n",
       "      <td>65</td>\n",
       "      <td>110</td>\n",
       "      <td>자룡</td>\n",
       "      <td>107</td>\n",
       "    </tr>\n",
       "    <tr>\n",
       "      <th>2</th>\n",
       "      <td>주유</td>\n",
       "      <td>96</td>\n",
       "      <td>87</td>\n",
       "      <td>93</td>\n",
       "      <td>공근</td>\n",
       "      <td>81</td>\n",
       "    </tr>\n",
       "  </tbody>\n",
       "</table>\n",
       "</div>"
      ],
      "text/plain": [
       "   이름  지력  정치   매력   자  무력+10\n",
       "0  조조  91  94   96  맹덕     82\n",
       "1  자룡  76  65  110  자룡    107\n",
       "2  주유  96  87   93  공근     81"
      ]
     },
     "execution_count": 33,
     "metadata": {},
     "output_type": "execute_result"
    }
   ],
   "source": [
    "# 무력을 실제 데이터로 삭제. inplace 옵션을 이용하면 데이터에 바로 반영 됨 \n",
    "c.drop([\"무력\"], axis=1, inplace=True)\n",
    "c"
   ]
  },
  {
   "cell_type": "markdown",
   "metadata": {},
   "source": [
    "# 속성\n",
    "데이터프레임의 주요 속성을 알아보겠습니다. \n",
    "\n",
    "속성|설명\n",
    "-|-\n",
    "index|인덱스\n",
    "columns|칼럼\n",
    "values|값\n",
    "shape|인덱스, 칼럼 사이즈\n",
    "size|값의 길이\n",
    "T|칼럼, 인덱스를 전환"
   ]
  },
  {
   "cell_type": "code",
   "execution_count": 34,
   "metadata": {},
   "outputs": [
    {
     "data": {
      "text/plain": [
       "RangeIndex(start=0, stop=3, step=1)"
      ]
     },
     "execution_count": 34,
     "metadata": {},
     "output_type": "execute_result"
    }
   ],
   "source": [
    "# 인덱스 정보 \n",
    "c.index"
   ]
  },
  {
   "cell_type": "code",
   "execution_count": 35,
   "metadata": {},
   "outputs": [
    {
     "data": {
      "text/plain": [
       "Index(['이름', '지력', '정치', '매력', '자', '무력+10'], dtype='object')"
      ]
     },
     "execution_count": 35,
     "metadata": {},
     "output_type": "execute_result"
    }
   ],
   "source": [
    "# 칼럼 정보 \n",
    "c.columns"
   ]
  },
  {
   "cell_type": "code",
   "execution_count": 36,
   "metadata": {},
   "outputs": [
    {
     "data": {
      "text/plain": [
       "array([['조조', 91, 94, 96, '맹덕', 82],\n",
       "       ['자룡', 76, 65, 110, '자룡', 107],\n",
       "       ['주유', 96, 87, 93, '공근', 81]], dtype=object)"
      ]
     },
     "execution_count": 36,
     "metadata": {},
     "output_type": "execute_result"
    }
   ],
   "source": [
    "# 값 \n",
    "c.values"
   ]
  },
  {
   "cell_type": "code",
   "execution_count": 37,
   "metadata": {},
   "outputs": [
    {
     "data": {
      "text/plain": [
       "(3, 6)"
      ]
     },
     "execution_count": 37,
     "metadata": {},
     "output_type": "execute_result"
    }
   ],
   "source": [
    "# 인덱스 길이, 칼럼 길이\n",
    "c.shape"
   ]
  },
  {
   "cell_type": "code",
   "execution_count": 38,
   "metadata": {},
   "outputs": [
    {
     "data": {
      "text/plain": [
       "18"
      ]
     },
     "execution_count": 38,
     "metadata": {},
     "output_type": "execute_result"
    }
   ],
   "source": [
    "# 값의 길이 \n",
    "c.size"
   ]
  },
  {
   "cell_type": "code",
   "execution_count": 39,
   "metadata": {},
   "outputs": [
    {
     "data": {
      "text/html": [
       "<div>\n",
       "<style scoped>\n",
       "    .dataframe tbody tr th:only-of-type {\n",
       "        vertical-align: middle;\n",
       "    }\n",
       "\n",
       "    .dataframe tbody tr th {\n",
       "        vertical-align: top;\n",
       "    }\n",
       "\n",
       "    .dataframe thead th {\n",
       "        text-align: right;\n",
       "    }\n",
       "</style>\n",
       "<table border=\"1\" class=\"dataframe\">\n",
       "  <thead>\n",
       "    <tr style=\"text-align: right;\">\n",
       "      <th></th>\n",
       "      <th>0</th>\n",
       "      <th>1</th>\n",
       "      <th>2</th>\n",
       "    </tr>\n",
       "  </thead>\n",
       "  <tbody>\n",
       "    <tr>\n",
       "      <th>이름</th>\n",
       "      <td>조조</td>\n",
       "      <td>자룡</td>\n",
       "      <td>주유</td>\n",
       "    </tr>\n",
       "    <tr>\n",
       "      <th>지력</th>\n",
       "      <td>91</td>\n",
       "      <td>76</td>\n",
       "      <td>96</td>\n",
       "    </tr>\n",
       "    <tr>\n",
       "      <th>정치</th>\n",
       "      <td>94</td>\n",
       "      <td>65</td>\n",
       "      <td>87</td>\n",
       "    </tr>\n",
       "    <tr>\n",
       "      <th>매력</th>\n",
       "      <td>96</td>\n",
       "      <td>110</td>\n",
       "      <td>93</td>\n",
       "    </tr>\n",
       "    <tr>\n",
       "      <th>자</th>\n",
       "      <td>맹덕</td>\n",
       "      <td>자룡</td>\n",
       "      <td>공근</td>\n",
       "    </tr>\n",
       "    <tr>\n",
       "      <th>무력+10</th>\n",
       "      <td>82</td>\n",
       "      <td>107</td>\n",
       "      <td>81</td>\n",
       "    </tr>\n",
       "  </tbody>\n",
       "</table>\n",
       "</div>"
      ],
      "text/plain": [
       "        0    1   2\n",
       "이름     조조   자룡  주유\n",
       "지력     91   76  96\n",
       "정치     94   65  87\n",
       "매력     96  110  93\n",
       "자      맹덕   자룡  공근\n",
       "무력+10  82  107  81"
      ]
     },
     "execution_count": 39,
     "metadata": {},
     "output_type": "execute_result"
    }
   ],
   "source": [
    "# 칼럼. 인덱스를 전환 \n",
    "c.T"
   ]
  }
 ],
 "metadata": {
  "kernelspec": {
   "display_name": "Python 3",
   "language": "python",
   "name": "python3"
  },
  "language_info": {
   "codemirror_mode": {
    "name": "ipython",
    "version": 3
   },
   "file_extension": ".py",
   "mimetype": "text/x-python",
   "name": "python",
   "nbconvert_exporter": "python",
   "pygments_lexer": "ipython3",
   "version": "3.7.6"
  }
 },
 "nbformat": 4,
 "nbformat_minor": 4
}
